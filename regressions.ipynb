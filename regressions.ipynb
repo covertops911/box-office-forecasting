{
 "cells": [
  {
   "cell_type": "code",
   "execution_count": 1,
   "metadata": {
    "collapsed": true
   },
   "outputs": [],
   "source": [
    "%matplotlib inline\n",
    "\n",
    "from random import sample\n",
    "import re\n",
    "\n",
    "from matplotlib import pylab\n",
    "import matplotlib.pyplot as plt\n",
    "import numpy as np\n",
    "import pandas as pd\n",
    "from sklearn.decomposition import PCA\n",
    "from sklearn.ensemble import RandomForestRegressor\n",
    "from sklearn.linear_model import LinearRegression\n",
    "from sklearn.metrics import mean_squared_error as mse\n",
    "from sklearn.model_selection import train_test_split\n",
    "from sklearn.neighbors import KNeighborsRegressor\n",
    "from sklearn.preprocessing import StandardScaler\n",
    "\n",
    "pd.options.mode.chained_assignment = None\n",
    "pd.set_option('display.max_columns', 150)\n",
    "pd.set_option('display.max_rows', 200)"
   ]
  },
  {
   "cell_type": "markdown",
   "metadata": {},
   "source": [
    "#### Get the train/test data."
   ]
  },
  {
   "cell_type": "markdown",
   "metadata": {},
   "source": [
    "For linear regression."
   ]
  },
  {
   "cell_type": "code",
   "execution_count": 2,
   "metadata": {
    "collapsed": true
   },
   "outputs": [],
   "source": [
    "nrg_bom_df = pd.read_csv('./nrg_bom_df.p')\n",
    "\n",
    "# Get rid of bad rows.\n",
    "nrg_bom_df = nrg_bom_df.loc[\n",
    "    nrg_bom_df.num_of_theaters_opening_weekend > 1\n",
    "]\n",
    "\n",
    "nrg_bom_df['def/pos'] = nrg_bom_df.definite_int / nrg_bom_df.positive_int"
   ]
  },
  {
   "cell_type": "markdown",
   "metadata": {},
   "source": [
    "For random forest."
   ]
  },
  {
   "cell_type": "code",
   "execution_count": 3,
   "metadata": {
    "collapsed": true
   },
   "outputs": [],
   "source": [
    "metrics_df = pd.read_csv('./rf_data_1.csv')\n",
    "\n",
    "# Get rid of bad row.\n",
    "metrics_df = metrics_df.loc[\n",
    "    ~((metrics_df.movie == 'Beauty And The Beast') &\n",
    "    (metrics_df.opening_weekend_gross < 10000.))\n",
    "]"
   ]
  },
  {
   "cell_type": "markdown",
   "metadata": {},
   "source": [
    "Merge the data sets."
   ]
  },
  {
   "cell_type": "code",
   "execution_count": 4,
   "metadata": {
    "collapsed": true
   },
   "outputs": [],
   "source": [
    "metrics_df = nrg_bom_df.merge(metrics_df)\n",
    "\n",
    "# IY. Perhaps scaling is not necessary.\n",
    "# Scale the BO opens. \n",
    "scaler = StandardScaler()\n",
    "bo_opens = metrics_df.opening_weekend_gross.values.reshape(-1, 1)\n",
    "scaler.fit(bo_opens)\n",
    "\n",
    "bo_opens_scaled = scaler.transform(bo_opens)\n",
    "bo_opens_scaled = bo_opens_scaled.reshape(metrics_df.index.size)\n",
    "\n",
    "metrics_df['bo_open_scaled'] = bo_opens_scaled\n",
    "\n",
    "# Get def/pos squared.\n",
    "metrics_df['def/pos_sq'] = metrics_df['def/pos'] * metrics_df['def/pos']"
   ]
  },
  {
   "cell_type": "markdown",
   "metadata": {},
   "source": [
    "Get the predictor columns for lr and rf."
   ]
  },
  {
   "cell_type": "code",
   "execution_count": 5,
   "metadata": {
    "collapsed": true
   },
   "outputs": [],
   "source": [
    "lr_predictor_columns = [\n",
    "    'unaided_intent',\n",
    "    'first_choice',\n",
    "    'def/pos',\n",
    "    'def/pos_sq'\n",
    "]\n",
    "\n",
    "rf_predictor_columns = []\n",
    "for column in metrics_df.columns:\n",
    "    pattern = '_\\d+'\n",
    "    match = re.search(pattern, column)\n",
    "    if match:\n",
    "        rf_predictor_columns.append(column)\n",
    "\n",
    "target_column = 'opening_weekend_gross'"
   ]
  },
  {
   "cell_type": "markdown",
   "metadata": {},
   "source": [
    "Get train/test sets for lr and rf."
   ]
  },
  {
   "cell_type": "code",
   "execution_count": 6,
   "metadata": {
    "collapsed": true
   },
   "outputs": [],
   "source": [
    "N = metrics_df.index.size\n",
    "TEST_SIZE = round(N * .25)\n",
    "\n",
    "test_ixs = sample(list(range(N)), TEST_SIZE)\n",
    "train_ixs = list(set(range(N)) - set(test_ixs))\n",
    "\n",
    "train_df = metrics_df.iloc[train_ixs]\n",
    "test_df = metrics_df.iloc[test_ixs]\n",
    "\n",
    "X_train_lr = train_df.loc[:, lr_predictor_columns].values\n",
    "X_test_lr = test_df.loc[:, lr_predictor_columns].values\n",
    "\n",
    "X_train_rf = train_df.loc[:, rf_predictor_columns].values\n",
    "X_test_rf = test_df.loc[:, rf_predictor_columns].values\n",
    "\n",
    "y_train = train_df.loc[:, target_column].values\n",
    "y_test = test_df.loc[:, target_column].values\n",
    "\n",
    "X_lr = np.concatenate((X_train_lr, X_test_lr))\n",
    "X_rf = np.concatenate((X_train_rf, X_test_rf))\n",
    "y = np.concatenate((y_train, y_test))"
   ]
  },
  {
   "cell_type": "markdown",
   "metadata": {},
   "source": [
    "#### Train linear regression."
   ]
  },
  {
   "cell_type": "code",
   "execution_count": 24,
   "metadata": {},
   "outputs": [
    {
     "name": "stdout",
     "output_type": "stream",
     "text": [
      "R^2: 0.8844650456693388\n",
      "Test R^2: 0.8836578388710788\n",
      "Test RMSE: 12963230.935446262\n"
     ]
    }
   ],
   "source": [
    "lr = LinearRegression()\n",
    "lr.fit(X_train_lr, y_train)\n",
    "\n",
    "test_predictions = lr.predict(X_test_lr)\n",
    "\n",
    "print('R^2: {}'.format(lr.score(X_lr, y)))\n",
    "print('Test R^2: {}'.format(lr.score(X_test_lr, y_test)))\n",
    "print('Test RMSE: {}'.format(np.sqrt(mse(y_test, test_predictions))))"
   ]
  },
  {
   "cell_type": "markdown",
   "metadata": {},
   "source": [
    "#### Train random forest."
   ]
  },
  {
   "cell_type": "code",
   "execution_count": 55,
   "metadata": {},
   "outputs": [
    {
     "name": "stdout",
     "output_type": "stream",
     "text": [
      "R^2: 0.9247450297720723\n",
      "Test R^2: 0.7799856416820695\n",
      "Test RMSE: 14487147.805829288\n"
     ]
    }
   ],
   "source": [
    "rfr = RandomForestRegressor(n_estimators=250)\n",
    "rfr.fit(X_train_rf, y_train)\n",
    "\n",
    "test_predictions = rfr.predict(X_test_rf)\n",
    "\n",
    "print('R^2: {}'.format(rfr.score(X_rf, y)))\n",
    "print('Test R^2: {}'.format(rfr.score(X_test_rf, y_test)))\n",
    "print('Test RMSE: {}'.format(np.sqrt(mse(y_test, test_predictions))))"
   ]
  },
  {
   "cell_type": "markdown",
   "metadata": {},
   "source": [
    "#### Train knn regressor."
   ]
  },
  {
   "cell_type": "markdown",
   "metadata": {},
   "source": [
    "Use lr predictors."
   ]
  },
  {
   "cell_type": "code",
   "execution_count": 42,
   "metadata": {},
   "outputs": [
    {
     "name": "stdout",
     "output_type": "stream",
     "text": [
      "R^2: 0.828809235973071\n",
      "Test R^2: 0.731763620854236\n",
      "Test RMSE: 15996177.624984656\n"
     ]
    }
   ],
   "source": [
    "knn_lr = KNeighborsRegressor()\n",
    "knn_lr.fit(X_train_lr, y_train)\n",
    "\n",
    "test_predictions = knn_lr.predict(X_test_lr)\n",
    "\n",
    "print('R^2: {}'.format(knn_lr.score(X_lr, y)))\n",
    "print('Test R^2: {}'.format(knn_lr.score(X_test_lr, y_test)))\n",
    "print('Test RMSE: {}'.format(np.sqrt(mse(y_test, test_predictions))))"
   ]
  },
  {
   "cell_type": "code",
   "execution_count": 60,
   "metadata": {
    "collapsed": true
   },
   "outputs": [],
   "source": [
    "pickle.dump(knn_lr, open('./knn_lr.p', 'wb'))"
   ]
  },
  {
   "cell_type": "markdown",
   "metadata": {},
   "source": [
    "Use rf predictors."
   ]
  },
  {
   "cell_type": "code",
   "execution_count": 27,
   "metadata": {},
   "outputs": [
    {
     "name": "stdout",
     "output_type": "stream",
     "text": [
      "R^2: 0.7680382136904574\n",
      "Test R^2: 0.7561771050821549\n",
      "Test RMSE: 15250870.053728005\n"
     ]
    }
   ],
   "source": [
    "knn_rf = KNeighborsRegressor()\n",
    "knn_rf.fit(X_train_rf, y_train)\n",
    "\n",
    "test_predictions = knn_rf.predict(X_test_rf)\n",
    "\n",
    "print('R^2: {}'.format(knn_rf.score(X_rf, y)))\n",
    "print('Test R^2: {}'.format(knn_rf.score(X_test_rf, y_test)))\n",
    "print('Test RMSE: {}'.format(np.sqrt(mse(y_test, test_predictions))))"
   ]
  },
  {
   "cell_type": "markdown",
   "metadata": {},
   "source": [
    "Use all predictors."
   ]
  },
  {
   "cell_type": "code",
   "execution_count": 28,
   "metadata": {},
   "outputs": [
    {
     "name": "stdout",
     "output_type": "stream",
     "text": [
      "R^2: 0.7667185563811508\n",
      "Test R^2: 0.7504300381383696\n",
      "Test RMSE: 15429559.776140347\n"
     ]
    }
   ],
   "source": [
    "X_train = np.concatenate((X_train_lr, X_train_rf), axis=1)\n",
    "X_test = np.concatenate((X_test_lr, X_test_rf), axis=1)\n",
    "X = np.concatenate((X_train, X_test))\n",
    "\n",
    "knn = KNeighborsRegressor()\n",
    "knn.fit(X_train, y_train)\n",
    "\n",
    "test_predictions = knn.predict(X_test)\n",
    "\n",
    "print('R^2: {}'.format(knn.score(X, y)))\n",
    "print('Test R^2: {}'.format(knn.score(X_test, y_test)))\n",
    "print('Test RMSE: {}'.format(np.sqrt(mse(y_test, test_predictions))))"
   ]
  },
  {
   "cell_type": "markdown",
   "metadata": {},
   "source": [
    "#### Average all predictions."
   ]
  },
  {
   "cell_type": "code",
   "execution_count": 29,
   "metadata": {
    "collapsed": true
   },
   "outputs": [],
   "source": [
    "test_predictions_lr = lr.predict(X_test_lr)\n",
    "test_predictions_rfr = rfr.predict(X_test_rf)\n",
    "test_predictions_knn = knn_lr.predict(X_test_lr)"
   ]
  },
  {
   "cell_type": "code",
   "execution_count": 33,
   "metadata": {},
   "outputs": [
    {
     "name": "stdout",
     "output_type": "stream",
     "text": [
      "Test RMSE: 12963230.935446262\n"
     ]
    }
   ],
   "source": [
    "test_predictions = (\n",
    "    (test_predictions_lr +\n",
    "     test_predictions_rfr +\n",
    "     test_predictions_knn) / 3.\n",
    ")\n",
    "\n",
    "print('Test RMSE: {}'.format(np.sqrt(mse(y_test, test_predictions))))"
   ]
  },
  {
   "cell_type": "code",
   "execution_count": 35,
   "metadata": {},
   "outputs": [
    {
     "name": "stdout",
     "output_type": "stream",
     "text": [
      "Test RMSE: 12010291.156839198\n"
     ]
    }
   ],
   "source": [
    "test_predictions = (\n",
    "    (test_predictions_lr +\n",
    "     test_predictions_rfr) / 2.\n",
    ")\n",
    "\n",
    "print('Test RMSE: {}'.format(np.sqrt(mse(y_test, test_predictions))))"
   ]
  },
  {
   "cell_type": "code",
   "execution_count": 36,
   "metadata": {},
   "outputs": [
    {
     "name": "stdout",
     "output_type": "stream",
     "text": [
      "Test RMSE: 12698290.061664687\n"
     ]
    }
   ],
   "source": [
    "test_predictions = (\n",
    "    (test_predictions_lr +\n",
    "     test_predictions_knn) / 2.\n",
    ")\n",
    "\n",
    "print('Test RMSE: {}'.format(np.sqrt(mse(y_test, test_predictions))))"
   ]
  },
  {
   "cell_type": "code",
   "execution_count": 37,
   "metadata": {},
   "outputs": [
    {
     "name": "stdout",
     "output_type": "stream",
     "text": [
      "Test RMSE: 21273023.6766243\n"
     ]
    }
   ],
   "source": [
    "test_predictions = (\n",
    "     (test_predictions_rfr +\n",
    "     test_predictions_knn) / 3.\n",
    ")\n",
    "\n",
    "print('Test RMSE: {}'.format(np.sqrt(mse(y_test, test_predictions))))"
   ]
  },
  {
   "cell_type": "code",
   "execution_count": null,
   "metadata": {
    "collapsed": true
   },
   "outputs": [],
   "source": []
  }
 ],
 "metadata": {
  "kernelspec": {
   "display_name": "Python 3 (ipykernel)",
   "language": "python",
   "name": "python3"
  },
  "language_info": {
   "codemirror_mode": {
    "name": "ipython",
    "version": 3
   },
   "file_extension": ".py",
   "mimetype": "text/x-python",
   "name": "python",
   "nbconvert_exporter": "python",
   "pygments_lexer": "ipython3",
   "version": "3.11.1"
  }
 },
 "nbformat": 4,
 "nbformat_minor": 2
}
