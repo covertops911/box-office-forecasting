{
 "cells": [
  {
   "cell_type": "code",
   "execution_count": 1,
   "metadata": {
    "collapsed": true
   },
   "outputs": [],
   "source": [
    "%matplotlib inline\n",
    "\n",
    "from datetime import datetime as dt\n",
    "from math import sqrt\n",
    "import pickle\n",
    "from random import sample\n",
    "\n",
    "import matplotlib\n",
    "import matplotlib.pyplot as plt\n",
    "import numpy as np\n",
    "import pandas as pd\n",
    "from scipy.optimize import minimize\n",
    "from sklearn.linear_model import LinearRegression\n",
    "from sklearn.metrics import mean_squared_error as mse\n",
    "from sklearn.model_selection import train_test_split\n",
    "from sklearn.preprocessing import StandardScaler\n",
    "import holtwinters as hw\n",
    "\n",
    "matplotlib.style.use('ggplot')\n",
    "pd.options.mode.chained_assignment = None"
   ]
  },
  {
   "cell_type": "code",
   "execution_count": 2,
   "metadata": {
    "collapsed": true
   },
   "outputs": [],
   "source": [
    "bo_open_df = pd.read_csv('./bo_open_ts.csv')\n",
    "bo_open_df = bo_open_df.loc[\n",
    "    bo_open_df.year >= 2010\n",
    "]\n",
    "bo_open_df.dropna(inplace=True)\n",
    "\n",
    "sums_df = bo_open_df.groupby(['year', 'month'], as_index=False).sum()\n",
    "sums_df.drop('week', axis=1, inplace=True)\n",
    "\n",
    "bo_sums = list(sums_df.opening_weekend_gross)"
   ]
  },
  {
   "cell_type": "markdown",
   "metadata": {},
   "source": [
    "#### HW month sum BO forecast."
   ]
  },
  {
   "cell_type": "code",
   "execution_count": 3,
   "metadata": {},
   "outputs": [
    {
     "data": {
      "text/plain": [
       "[<matplotlib.lines.Line2D at 0x11d27def0>]"
      ]
     },
     "execution_count": 3,
     "metadata": {},
     "output_type": "execute_result"
    },
    {
     "data": {
      "image/png": "[encoded data removed]",
      "text/plain": [
       "<matplotlib.figure.Figure at 0x10ee0dac8>"
      ]
     },
     "metadata": {},
     "output_type": "display_data"
    }
   ],
   "source": [
    "def get_hw_forecast(year, month, lookback=36):\n",
    "    ix = sums_df.loc[\n",
    "        (sums_df.year == year) &\n",
    "        (sums_df.month == month)\n",
    "    ].index[0]\n",
    "    \n",
    "    if ix >= lookback:\n",
    "        start_ix = ix - lookback\n",
    "    else:\n",
    "        start_ix = 0\n",
    "\n",
    "    bo_opens = list(sums_df.iloc[start_ix:ix].opening_weekend_gross)\n",
    "\n",
    "    hw_forecast = hw.additive(bo_opens, 12, 1)\n",
    "    hw_fc = hw_forecast[0]\n",
    "    rmse = hw_forecast[-1]\n",
    "\n",
    "    return hw_fc[0], rmse\n",
    "\n",
    "fcs = [get_hw_forecast(2016, month)[0] for month in range(1, 13)]\n",
    "plt.plot(range(1, 13), fcs, marker='o')"
   ]
  },
  {
   "cell_type": "markdown",
   "metadata": {},
   "source": [
    "#### Get lr seasonal corrections."
   ]
  },
  {
   "cell_type": "code",
   "execution_count": 4,
   "metadata": {
    "collapsed": true
   },
   "outputs": [],
   "source": [
    "nrg_bom_df = pd.read_csv('./nrg_bom_df.p')\n",
    "nrg_bom_df['def/pos'] = nrg_bom_df.definite_int / nrg_bom_df.positive_int\n",
    "nrg_bom_df['def/pos_sq'] = nrg_bom_df['def/pos'] * nrg_bom_df['def/pos']\n",
    "\n",
    "lr_predictor_columns = [\n",
    "    'unaided_intent',\n",
    "    'first_choice',\n",
    "    'def/pos',\n",
    "    'def/pos_sq'\n",
    "]\n",
    "target_column = 'opening_weekend_gross'"
   ]
  },
  {
   "cell_type": "code",
   "execution_count": 5,
   "metadata": {},
   "outputs": [],
   "source": [
    "lr_residual = pickle.load(open('./lr_residual.p', 'rb'))\n",
    "\n",
    "def get_residual_prediction(date_str):\n",
    "    date = dt.strptime(date_str, '%Y-%m-%d')\n",
    "    year = date.year\n",
    "    month = date.month\n",
    "    if month in [5, 6, 7, 11, 12]:\n",
    "        return 0\n",
    "    bo_forecast = get_hw_forecast(year, month)[0]\n",
    "    residual_forecast = lr_residual.predict([[bo_forecast, ]])[0]\n",
    "    return residual_forecast\n",
    "\n",
    "nrg_bom_df['residual_prediction'] = nrg_bom_df.release_date.apply(get_residual_prediction)"
   ]
  },
  {
   "cell_type": "markdown",
   "metadata": {},
   "source": [
    "Train/test split."
   ]
  },
  {
   "cell_type": "code",
   "execution_count": 6,
   "metadata": {},
   "outputs": [],
   "source": [
    "N = nrg_bom_df.index.size\n",
    "TEST_SIZE = round(N * .25)\n",
    "\n",
    "test_ixs = sample(list(range(N)), TEST_SIZE)\n",
    "train_ixs = list(set(range(N)) - set(test_ixs))\n",
    "\n",
    "train_df = nrg_bom_df.iloc[train_ixs]\n",
    "test_df = nrg_bom_df.iloc[test_ixs]\n",
    "\n",
    "X_train_lr = train_df.loc[:, lr_predictor_columns].values\n",
    "X_test_lr = test_df.loc[:, lr_predictor_columns].values\n",
    "\n",
    "y_train = train_df.loc[:, target_column].values\n",
    "y_test = test_df.loc[:, target_column].values\n",
    "\n",
    "# IY. Issue here!\n",
    "# X_lr = np.concatenate((X_train_lr, X_test_lr))\n",
    "# y = np.concatenate((y_train, y_test))\n",
    "\n",
    "X_lr = nrg_bom_df.loc[:, lr_predictor_columns].values\n",
    "y = nrg_bom_df.loc[:, target_column].values"
   ]
  },
  {
   "cell_type": "code",
   "execution_count": 7,
   "metadata": {},
   "outputs": [
    {
     "name": "stdout",
     "output_type": "stream",
     "text": [
      "R^2: 0.8813594331149107\n",
      "Test R^2: 0.9256910148469824\n",
      "Test RMSE: 12932745.250366222\n"
     ]
    }
   ],
   "source": [
    "lr = LinearRegression()\n",
    "lr.fit(X_train_lr, y_train)\n",
    "\n",
    "test_predictions = lr.predict(X_test_lr)\n",
    "\n",
    "print('R^2: {}'.format(lr.score(X_lr, y)))\n",
    "print('Test R^2: {}'.format(lr.score(X_test_lr, y_test)))\n",
    "print('Test RMSE: {}'.format(np.sqrt(mse(y_test, test_predictions))))"
   ]
  },
  {
   "cell_type": "code",
   "execution_count": 8,
   "metadata": {},
   "outputs": [
    {
     "name": "stdout",
     "output_type": "stream",
     "text": [
      "Minimization success: True\n"
     ]
    }
   ],
   "source": [
    "nrg_bom_df['lr_prediction'] = lr.predict(X_lr)\n",
    "train_df['lr_prediction'] = lr.predict(X_train_lr)\n",
    "test_df['lr_prediction'] = lr.predict(X_test_lr)\n",
    "\n",
    "scale_factor = 1./100000000\n",
    "nrg_bom_df['scaled_lr'] = scale_factor * nrg_bom_df.lr_prediction\n",
    "train_df['scaled_lr'] = scale_factor * train_df.lr_prediction\n",
    "test_df['scaled_lr'] = scale_factor * test_df.lr_prediction\n",
    "\n",
    "columns = ['opening_weekend_gross', 'lr_prediction', \n",
    "           'scaled_lr', 'residual_prediction']\n",
    "prediction_sets = train_df.loc[:, columns].values\n",
    "\n",
    "def f(w):\n",
    "    sq_error = sum(\n",
    "        [(predictions[1] - w * predictions[2] * predictions[3] - predictions[0]) ** 2 \n",
    "         for predictions in prediction_sets]\n",
    "    )\n",
    "    return sq_error\n",
    "\n",
    "minimization = minimize(f, .1)\n",
    "optimal_parameter = minimization.x[0]\n",
    "\n",
    "print('Minimization success: {}'.format(minimization.success))"
   ]
  },
  {
   "cell_type": "code",
   "execution_count": 9,
   "metadata": {},
   "outputs": [],
   "source": [
    "# Get corrected predictions.\n",
    "\n",
    "def get_corrected(row, w):\n",
    "    correction = -1 * w * row.scaled_lr * row.residual_prediction\n",
    "    corrected = row.lr_prediction + correction\n",
    "    return corrected\n",
    "\n",
    "nrg_bom_df['corrected_prediction'] = nrg_bom_df.apply(lambda row: get_corrected(row, optimal_parameter), axis=1)\n",
    "test_df['corrected_prediction'] = test_df.apply(lambda row: get_corrected(row, optimal_parameter), axis=1)"
   ]
  },
  {
   "cell_type": "markdown",
   "metadata": {},
   "source": [
    "#### RMSEs"
   ]
  },
  {
   "cell_type": "code",
   "execution_count": 10,
   "metadata": {},
   "outputs": [
    {
     "name": "stdout",
     "output_type": "stream",
     "text": [
      "lr rmse: 11097474.276313199\n",
      "corrected rmse: 10059397.476330133\n"
     ]
    }
   ],
   "source": [
    "# RMSE for linear regression and corrected linear regression.\n",
    "# Whole set. \n",
    "\n",
    "y1 = nrg_bom_df.lr_prediction\n",
    "y2 = nrg_bom_df.corrected_prediction\n",
    "y = nrg_bom_df.opening_weekend_gross\n",
    "\n",
    "print('lr rmse: {}'.format(sqrt(mse(y, y1))))\n",
    "print('corrected rmse: {}'.format(sqrt(mse(y, y2))))"
   ]
  },
  {
   "cell_type": "code",
   "execution_count": 11,
   "metadata": {},
   "outputs": [
    {
     "name": "stdout",
     "output_type": "stream",
     "text": [
      "lr rmse: 12932745.250366222\n",
      "corrected rmse: 10878786.366452571\n"
     ]
    }
   ],
   "source": [
    "# RMSE for linear regression and corrected linear regression.\n",
    "# For test set.\n",
    "\n",
    "y1 = test_df.lr_prediction\n",
    "y2 = test_df.corrected_prediction\n",
    "y = test_df.opening_weekend_gross\n",
    "\n",
    "print('lr rmse: {}'.format(sqrt(mse(y, y1))))\n",
    "print('corrected rmse: {}'.format(sqrt(mse(y, y2))))"
   ]
  },
  {
   "cell_type": "code",
   "execution_count": 12,
   "metadata": {},
   "outputs": [],
   "source": [
    "def get_month(date_str):\n",
    "    date = dt.strptime(date_str, '%Y-%m-%d')\n",
    "    month = date.month\n",
    "    return month\n",
    "\n",
    "nrg_bom_df['month'] = nrg_bom_df.release_date.apply(get_month)\n",
    "test_df['month'] = test_df.release_date.apply(get_month)\n",
    "\n",
    "peak_months = [5, 6, 7, 11, 12]\n",
    "\n",
    "peak_df = nrg_bom_df.loc[\n",
    "    nrg_bom_df.month.isin(peak_months)\n",
    "]\n",
    "non_peak_df = nrg_bom_df.loc[\n",
    "    ~nrg_bom_df.month.isin(peak_months)\n",
    "]\n",
    "\n",
    "peak_test_df = test_df.loc[\n",
    "    test_df.month.isin(peak_months)\n",
    "]\n",
    "non_peak_test_df = test_df.loc[\n",
    "    ~test_df.month.isin(peak_months)\n",
    "]"
   ]
  },
  {
   "cell_type": "code",
   "execution_count": 13,
   "metadata": {},
   "outputs": [
    {
     "name": "stdout",
     "output_type": "stream",
     "text": [
      "lr rmse: 11357199.511386298\n",
      "corrected rmse: 8288358.166711126\n",
      "difference: -3068841.344675171\n"
     ]
    }
   ],
   "source": [
    "# RMSE for non-peak months.\n",
    "# Whole set. \n",
    "\n",
    "y1 = non_peak_df.lr_prediction\n",
    "y2 = non_peak_df.corrected_prediction\n",
    "y = non_peak_df.opening_weekend_gross\n",
    "\n",
    "lr_rmse = sqrt(mse(y, y1))\n",
    "corrected_rmse = sqrt(mse(y, y2))\n",
    "\n",
    "print('lr rmse: {}'.format(lr_rmse))\n",
    "print('corrected rmse: {}'.format(corrected_rmse))\n",
    "print('difference: {}'.format(corrected_rmse - lr_rmse))"
   ]
  },
  {
   "cell_type": "code",
   "execution_count": 14,
   "metadata": {},
   "outputs": [
    {
     "name": "stdout",
     "output_type": "stream",
     "text": [
      "lr rmse: 16001751.445187865\n",
      "corrected rmse: 10021974.949674075\n",
      "difference: -5979776.495513789\n"
     ]
    }
   ],
   "source": [
    "# RMSE for non-peak months.\n",
    "# Test set. \n",
    "\n",
    "y1 = non_peak_test_df.lr_prediction\n",
    "y2 = non_peak_test_df.corrected_prediction\n",
    "y = non_peak_test_df.opening_weekend_gross\n",
    "\n",
    "lr_rmse = sqrt(mse(y, y1))\n",
    "corrected_rmse = sqrt(mse(y, y2))\n",
    "\n",
    "print('lr rmse: {}'.format(lr_rmse))\n",
    "print('corrected rmse: {}'.format(corrected_rmse))\n",
    "print('difference: {}'.format(corrected_rmse - lr_rmse))"
   ]
  },
  {
   "cell_type": "code",
   "execution_count": null,
   "metadata": {
    "collapsed": true
   },
   "outputs": [],
   "source": []
  }
 ],
 "metadata": {
  "kernelspec": {
   "display_name": "Python 3 (ipykernel)",
   "language": "python",
   "name": "python3"
  },
  "language_info": {
   "codemirror_mode": {
    "name": "ipython",
    "version": 3
   },
   "file_extension": ".py",
   "mimetype": "text/x-python",
   "name": "python",
   "nbconvert_exporter": "python",
   "pygments_lexer": "ipython3",
   "version": "3.11.1"
  }
 },
 "nbformat": 4,
 "nbformat_minor": 2
}
