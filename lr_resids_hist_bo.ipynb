{
 "cells": [
  {
   "cell_type": "code",
   "execution_count": 1,
   "metadata": {
    "collapsed": true
   },
   "outputs": [],
   "source": [
    "%matplotlib inline\n",
    "\n",
    "from datetime import datetime as dt\n",
    "import pickle\n",
    "\n",
    "import matplotlib\n",
    "import matplotlib.pyplot as plt\n",
    "import pandas as pd\n",
    "from sklearn.linear_model import LinearRegression\n",
    "\n",
    "matplotlib.style.use('ggplot')\n",
    "pd.set_option('display.max_rows', 150)"
   ]
  },
  {
   "cell_type": "code",
   "execution_count": 2,
   "metadata": {
    "collapsed": true
   },
   "outputs": [],
   "source": [
    "bo_open_df = pd.read_csv('./bo_open_ts.csv')\n",
    "bo_open_df = bo_open_df.loc[\n",
    "    bo_open_df.year >= 2013\n",
    "]\n",
    "bo_open_df.dropna(inplace=True)\n",
    "bo_open_df.drop('week', axis=1, inplace=True)"
   ]
  },
  {
   "cell_type": "code",
   "execution_count": 3,
   "metadata": {},
   "outputs": [],
   "source": [
    "sums_df = bo_open_df.groupby(['year', 'month'], as_index=False).sum()\n",
    "sums_df = sums_df.groupby('month').mean()\n",
    "\n",
    "sums_df.drop('year', axis=1, inplace=True)"
   ]
  },
  {
   "cell_type": "code",
   "execution_count": 4,
   "metadata": {},
   "outputs": [
    {
     "data": {
      "text/plain": [
       "<matplotlib.axes._subplots.AxesSubplot at 0x117762da0>"
      ]
     },
     "execution_count": 4,
     "metadata": {},
     "output_type": "execute_result"
    },
    {
     "data": {
      "image/png": "[encoded data removed]",
      "text/plain": [
       "<matplotlib.figure.Figure at 0x10c9a8438>"
      ]
     },
     "metadata": {},
     "output_type": "display_data"
    }
   ],
   "source": [
    "sums_df.opening_weekend_gross.plot(marker='o', markersize=4)"
   ]
  },
  {
   "cell_type": "markdown",
   "metadata": {},
   "source": [
    "#### Look at regression residuals."
   ]
  },
  {
   "cell_type": "code",
   "execution_count": 5,
   "metadata": {
    "collapsed": true
   },
   "outputs": [],
   "source": [
    "nrg_bom_df = pd.read_csv('./nrg_bom_df.p')\n",
    "\n",
    "nrg_bom_df['def/pos'] = nrg_bom_df.definite_int / nrg_bom_df.positive_int\n",
    "nrg_bom_df['def/pos_sq'] = nrg_bom_df['def/pos'] * nrg_bom_df['def/pos']\n",
    "\n",
    "predictor_columns = [\n",
    "    'unaided_intent',\n",
    "    'first_choice',\n",
    "    'def/pos',\n",
    "    'def/pos_sq'\n",
    "]\n",
    "target_column = 'opening_weekend_gross'\n",
    "\n",
    "X = nrg_bom_df.loc[:, predictor_columns].values\n",
    "y = nrg_bom_df.loc[:, target_column].values"
   ]
  },
  {
   "cell_type": "code",
   "execution_count": 6,
   "metadata": {
    "collapsed": true
   },
   "outputs": [],
   "source": [
    "lr = pickle.load(open('./lr.p', 'rb'))\n",
    "\n",
    "df = nrg_bom_df.copy()\n",
    "df['lr_prediction'] = lr.predict(X)\n",
    "df['residual'] = df.opening_weekend_gross - df.lr_prediction\n",
    "\n",
    "def get_year_month_week(date_str):\n",
    "    date = dt.strptime(date_str, '%Y-%m-%d')\n",
    "    year = date.year\n",
    "    month = date.month\n",
    "    week = date.date().isocalendar()[1]\n",
    "    return year, month, week\n",
    "\n",
    "df[['year', 'month', 'week']] = pd.DataFrame(\n",
    "    list(map(get_year_month_week, df.release_date))\n",
    ")"
   ]
  },
  {
   "cell_type": "code",
   "execution_count": 25,
   "metadata": {},
   "outputs": [],
   "source": [
    "residuals_df = df.loc[:, ['month', 'residual']].groupby('month', as_index=False).mean()\n",
    "residuals_df = residuals_df.merge(sums_df.reset_index())"
   ]
  },
  {
   "cell_type": "code",
   "execution_count": 27,
   "metadata": {},
   "outputs": [
    {
     "data": {
      "text/plain": [
       "<matplotlib.text.Text at 0x11af9f748>"
      ]
     },
     "execution_count": 27,
     "metadata": {},
     "output_type": "execute_result"
    },
    {
     "data": {
      "image/png": "[encoded data removed]",
      "text/plain": [
       "<matplotlib.figure.Figure at 0x117a26198>"
      ]
     },
     "metadata": {},
     "output_type": "display_data"
    }
   ],
   "source": [
    "X = residuals_df.opening_weekend_gross.values.reshape(-1, 1)\n",
    "y = residuals_df.residual.values\n",
    "\n",
    "lr = LinearRegression()\n",
    "lr.fit(X, y)\n",
    "\n",
    "predictions = lr.predict(X)\n",
    "\n",
    "x = X.reshape(X.shape[0])\n",
    "\n",
    "ax = plt.plot(x, predictions, linewidth=.5)[0]\n",
    "plt.scatter(x, y, color='b', alpha=.6)\n",
    "ax.axes.set_xlabel('bo open')\n",
    "ax.axes.set_ylabel('residual')"
   ]
  },
  {
   "cell_type": "code",
   "execution_count": 29,
   "metadata": {},
   "outputs": [
    {
     "data": {
      "text/html": [
       "<div>\n",
       "<style>\n",
       "    .dataframe thead tr:only-child th {\n",
       "        text-align: right;\n",
       "    }\n",
       "\n",
       "    .dataframe thead th {\n",
       "        text-align: left;\n",
       "    }\n",
       "\n",
       "    .dataframe tbody tr th {\n",
       "        vertical-align: top;\n",
       "    }\n",
       "</style>\n",
       "<table border=\"1\" class=\"dataframe\">\n",
       "  <thead>\n",
       "    <tr style=\"text-align: right;\">\n",
       "      <th></th>\n",
       "      <th>month</th>\n",
       "      <th>residual</th>\n",
       "      <th>opening_weekend_gross</th>\n",
       "    </tr>\n",
       "  </thead>\n",
       "  <tbody>\n",
       "    <tr>\n",
       "      <th>10</th>\n",
       "      <td>12</td>\n",
       "      <td>-7.593944e+06</td>\n",
       "      <td>3.372634e+08</td>\n",
       "    </tr>\n",
       "    <tr>\n",
       "      <th>4</th>\n",
       "      <td>5</td>\n",
       "      <td>-5.844608e+06</td>\n",
       "      <td>4.232569e+08</td>\n",
       "    </tr>\n",
       "    <tr>\n",
       "      <th>5</th>\n",
       "      <td>6</td>\n",
       "      <td>-5.459315e+05</td>\n",
       "      <td>3.950757e+08</td>\n",
       "    </tr>\n",
       "    <tr>\n",
       "      <th>9</th>\n",
       "      <td>11</td>\n",
       "      <td>-1.908941e+05</td>\n",
       "      <td>3.671643e+08</td>\n",
       "    </tr>\n",
       "    <tr>\n",
       "      <th>6</th>\n",
       "      <td>7</td>\n",
       "      <td>6.636077e+06</td>\n",
       "      <td>3.681560e+08</td>\n",
       "    </tr>\n",
       "    <tr>\n",
       "      <th>2</th>\n",
       "      <td>3</td>\n",
       "      <td>1.095858e+07</td>\n",
       "      <td>3.396466e+08</td>\n",
       "    </tr>\n",
       "  </tbody>\n",
       "</table>\n",
       "</div>"
      ],
      "text/plain": [
       "    month      residual  opening_weekend_gross\n",
       "10     12 -7.593944e+06           3.372634e+08\n",
       "4       5 -5.844608e+06           4.232569e+08\n",
       "5       6 -5.459315e+05           3.950757e+08\n",
       "9      11 -1.908941e+05           3.671643e+08\n",
       "6       7  6.636077e+06           3.681560e+08\n",
       "2       3  1.095858e+07           3.396466e+08"
      ]
     },
     "execution_count": 29,
     "metadata": {},
     "output_type": "execute_result"
    }
   ],
   "source": [
    "residuals_df.loc[\n",
    "    (residuals_df.opening_weekend_gross >= 300000000) &\n",
    "    (residuals_df.opening_weekend_gross <= 500000000)\n",
    "].sort_values('residual')"
   ]
  },
  {
   "cell_type": "markdown",
   "metadata": {},
   "source": [
    "#### Remove peak months."
   ]
  },
  {
   "cell_type": "markdown",
   "metadata": {},
   "source": [
    "Remove peak movie months 5, 6, 7, 11, 12, as they appear to behave differently than the other months."
   ]
  },
  {
   "cell_type": "code",
   "execution_count": 35,
   "metadata": {},
   "outputs": [],
   "source": [
    "peak_months = [5, 6, 7, 11, 12]\n",
    "\n",
    "non_peak_df = residuals_df.loc[\n",
    "    ~residuals_df.month.isin(peak_months)\n",
    "]"
   ]
  },
  {
   "cell_type": "code",
   "execution_count": 37,
   "metadata": {},
   "outputs": [
    {
     "data": {
      "text/plain": [
       "<matplotlib.text.Text at 0x11b25d828>"
      ]
     },
     "execution_count": 37,
     "metadata": {},
     "output_type": "execute_result"
    },
    {
     "data": {
      "image/png": "[encoded data removed]",
      "text/plain": [
       "<matplotlib.figure.Figure at 0x11af33518>"
      ]
     },
     "metadata": {},
     "output_type": "display_data"
    }
   ],
   "source": [
    "X = non_peak_df.opening_weekend_gross.values.reshape(-1, 1)\n",
    "y = non_peak_df.residual.values\n",
    "\n",
    "lr = LinearRegression()\n",
    "lr.fit(X, y)\n",
    "\n",
    "predictions = lr.predict(X)\n",
    "\n",
    "x = X.reshape(X.shape[0])\n",
    "\n",
    "ax = plt.plot(x, predictions, linewidth=.5)[0]\n",
    "plt.scatter(x, y, color='b', alpha=.6)\n",
    "ax.axes.set_xlabel('bo open')\n",
    "ax.axes.set_ylabel('residual')"
   ]
  },
  {
   "cell_type": "code",
   "execution_count": null,
   "metadata": {
    "collapsed": true
   },
   "outputs": [],
   "source": []
  }
 ],
 "metadata": {
  "kernelspec": {
   "display_name": "Python 3 (ipykernel)",
   "language": "python",
   "name": "python3"
  },
  "language_info": {
   "codemirror_mode": {
    "name": "ipython",
    "version": 3
   },
   "file_extension": ".py",
   "mimetype": "text/x-python",
   "name": "python",
   "nbconvert_exporter": "python",
   "pygments_lexer": "ipython3",
   "version": "3.11.1"
  }
 },
 "nbformat": 4,
 "nbformat_minor": 2
}
